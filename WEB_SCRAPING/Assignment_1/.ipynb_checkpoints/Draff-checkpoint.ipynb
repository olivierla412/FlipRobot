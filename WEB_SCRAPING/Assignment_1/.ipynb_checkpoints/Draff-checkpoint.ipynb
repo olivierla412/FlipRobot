{
 "cells": [
  {
   "cell_type": "markdown",
   "id": "00ca3908-71f9-4dd6-a288-be6f1aa24dde",
   "metadata": {},
   "source": [
    "## Assigments"
   ]
  },
  {
   "cell_type": "code",
   "execution_count": 198,
   "id": "129e2764-842b-4127-b0ac-d48a66fd5337",
   "metadata": {},
   "outputs": [],
   "source": [
    "# Importing the Libraries\n",
    "\n",
    "from bs4 import BeautifulSoup\n",
    "import requests\n",
    "import pandas as pd "
   ]
  },
  {
   "cell_type": "markdown",
   "id": "3cc8c30f-cfb9-418a-a29c-4aafab077cbd",
   "metadata": {},
   "source": [
    "## __WEB SCRAPING__"
   ]
  },
  {
   "cell_type": "markdown",
   "id": "11693f7a-9dac-407b-97e2-4d8d9616e110",
   "metadata": {},
   "source": [
    "#### __1. Write a python program to display all the header tags from ‘en.wikipedia.org/wiki/Main_Page’.__"
   ]
  },
  {
   "cell_type": "code",
   "execution_count": 6,
   "id": "45e0fdc2-173f-4b2b-bd5a-539d588ce3eb",
   "metadata": {},
   "outputs": [
    {
     "data": {
      "text/plain": [
       "<Response [200]>"
      ]
     },
     "execution_count": 6,
     "metadata": {},
     "output_type": "execute_result"
    }
   ],
   "source": [
    "source = requests.get('https://en.wikipedia.org/wiki/Main_Page')\n",
    "source"
   ]
  },
  {
   "cell_type": "code",
   "execution_count": 7,
   "id": "06fda0a5-db1f-4319-a910-e04440057ef2",
   "metadata": {},
   "outputs": [],
   "source": [
    "soup = BeautifulSoup(source.content)"
   ]
  },
  {
   "cell_type": "code",
   "execution_count": 8,
   "id": "22fdf1d0-c541-4107-a6d1-f64eb3254300",
   "metadata": {},
   "outputs": [],
   "source": [
    "article = soup.find_all('span',class_=\"mw-headline\")"
   ]
  },
  {
   "cell_type": "code",
   "execution_count": 9,
   "id": "c75925cb-7bf5-4acf-ba9b-d2b213ad797f",
   "metadata": {},
   "outputs": [
    {
     "name": "stdout",
     "output_type": "stream",
     "text": [
      "[<span class=\"mw-headline\" id=\"From_today's_featured_article\">From today's featured article</span>, <span class=\"mw-headline\" id=\"Did_you_know_...\">Did you know ...</span>, <span class=\"mw-headline\" id=\"In_the_news\">In the news</span>, <span class=\"mw-headline\" id=\"On_this_day\">On this day</span>, <span class=\"mw-headline\" id=\"Today's_featured_picture\">Today's featured picture</span>, <span class=\"mw-headline\" id=\"Other_areas_of_Wikipedia\">Other areas of Wikipedia</span>, <span class=\"mw-headline\" id=\"Wikipedia's_sister_projects\">Wikipedia's sister projects</span>, <span class=\"mw-headline\" id=\"Wikipedia_languages\">Wikipedia languages</span>]\n"
     ]
    }
   ],
   "source": [
    "print(article)"
   ]
  },
  {
   "cell_type": "code",
   "execution_count": 10,
   "id": "a5534b43-8715-42d3-afbc-47801dadee11",
   "metadata": {},
   "outputs": [
    {
     "name": "stdout",
     "output_type": "stream",
     "text": [
      "[\"From today's featured article\", 'Did you know\\xa0...', 'In the news', 'On this day', \"Today's featured picture\", 'Other areas of Wikipedia', \"Wikipedia's sister projects\", 'Wikipedia languages']\n"
     ]
    }
   ],
   "source": [
    "Article_Headert = []\n",
    "for x in article:\n",
    "    Article_Headert.append(x.text.strip())\n",
    "print(Article_Headert)    "
   ]
  },
  {
   "cell_type": "code",
   "execution_count": 47,
   "id": "ba2459fe-c5cd-4938-8bd8-13b580ef2959",
   "metadata": {},
   "outputs": [],
   "source": [
    "\n",
    "def article_header_func(*args):\n",
    "    url = input()\n",
    "    source = requests.get(url=url)\n",
    "    soup = BeautifulSoup(source.content)\n",
    "    article = soup.find_all('span',class_=\"mw-headline\")\n",
    "    Article_Headert = []\n",
    "    for x in article:\n",
    "        Article_Headert.append(x.text.strip())\n",
    "#print(Article_Headert,'\\n','-'*40,'\\nLength of Article is : ',len(Article_Headert))\n",
    "    return Article_Headert"
   ]
  },
  {
   "cell_type": "code",
   "execution_count": 48,
   "id": "ee928137-79c0-4fc2-8084-dd06ece16071",
   "metadata": {},
   "outputs": [
    {
     "name": "stdin",
     "output_type": "stream",
     "text": [
      " https://en.wikipedia.org/wiki/Main_Page\n"
     ]
    },
    {
     "data": {
      "text/plain": [
       "[\"From today's featured article\",\n",
       " 'Did you know\\xa0...',\n",
       " 'In the news',\n",
       " 'On this day',\n",
       " \"Today's featured picture\",\n",
       " 'Other areas of Wikipedia',\n",
       " \"Wikipedia's sister projects\",\n",
       " 'Wikipedia languages']"
      ]
     },
     "execution_count": 48,
     "metadata": {},
     "output_type": "execute_result"
    }
   ],
   "source": [
    "article_header_func()"
   ]
  },
  {
   "cell_type": "markdown",
   "id": "a40b2d1b-cb40-42ed-855c-d7d8818023d2",
   "metadata": {},
   "source": [
    "#### __2. Write a python program to display IMDB’s Top rated 100 movies’ data (i.e. Name, IMDB rating, Year of release) and make data frame.__"
   ]
  },
  {
   "cell_type": "code",
   "execution_count": null,
   "id": "8e4152eb-5b62-45ee-ba95-c06c743d12dd",
   "metadata": {},
   "outputs": [],
   "source": []
  },
  {
   "cell_type": "code",
   "execution_count": 87,
   "id": "0a38a9e7-ac23-44d5-b06b-6f4e775443aa",
   "metadata": {},
   "outputs": [],
   "source": [
    "#Finding the movies names\n",
    "\n",
    "source1 = requests.get('https://www.imdb.com/list/ls091520106/')\n",
    "soup1 = BeautifulSoup(source1.content)\n",
    "\n",
    "name = soup1.select('h3.lister-item-header > a')\n"
   ]
  },
  {
   "cell_type": "code",
   "execution_count": 88,
   "id": "866d70c6-d07e-402e-acfb-d28d85e814cd",
   "metadata": {},
   "outputs": [],
   "source": [
    "list_name1 =[]\n",
    "for x in name:\n",
    "    list_name1.append(x.text.strip())\n",
    "    "
   ]
  },
  {
   "cell_type": "code",
   "execution_count": 89,
   "id": "cd6dc811-b97d-476a-91e2-770011dba3ea",
   "metadata": {},
   "outputs": [
    {
     "name": "stdout",
     "output_type": "stream",
     "text": [
      "['The Shawshank Redemption', 'The Godfather', 'The Godfather: Part II', 'The Dark Knight', '12 Angry Men', \"Schindler's List\", 'The Lord of the Rings: The Return of the King', 'Pulp Fiction', 'Il buono, il brutto, il cattivo', 'Fight Club', 'Joker', 'The Lord of the Rings: The Fellowship of the Ring', 'Forrest Gump', 'Inception', 'Star Wars: Episode V - The Empire Strikes Back', 'The Lord of the Rings: The Two Towers', 'The Matrix', \"One Flew Over the Cuckoo's Nest\", 'Goodfellas', 'Shichinin no samurai', 'Se7en', 'Cidade de Deus', 'La vita è bella', 'The Silence of the Lambs', 'Star Wars', \"It's a Wonderful Life\", 'Saving Private Ryan', 'Sen to Chihiro no kamikakushi', 'The Green Mile', 'Léon', 'Seppuku', 'Interstellar', 'The Usual Suspects', 'The Lion King', 'American History X', 'Back to the Future', 'The Pianist', 'Modern Times', 'Terminator 2: Judgment Day', 'The Intouchables', 'Psycho', 'Gladiator', 'City Lights', 'The Departed', 'Whiplash', 'Once Upon a Time in the West', 'The Prestige', 'Avengers: Endgame', 'Casablanca', 'Hotaru no haka', 'Rear Window', 'Nuovo Cinema Paradiso', 'Alien', 'Raiders of the Lost Ark', 'Memento', 'Apocalypse Now', 'The Great Dictator', 'The Lives of Others', 'Avengers: Infinity War', 'Django Unchained', 'Spider-Man: Into the Spider-Verse', 'The Shining', 'Paths of Glory', 'WALL·E', 'Sunset Blvd.', 'Dr. Strangelove or: How I Learned to Stop Worrying and Love the Bomb', 'Mononoke-hime', 'Oldeuboi', 'Witness for the Prosecution', 'The Dark Knight Rises', 'Once Upon a Time in America', 'Gisaengchung', 'Aliens', 'American Beauty', 'Coco', 'Kimi no na wa.', 'Braveheart', 'Das Boot', '3 Idiots', 'Taare Zameen Par', 'Star Wars: Episode VI - Return of the Jedi', 'Toy Story', 'Reservoir Dogs', 'Amadeus', 'Dangal', 'Good Will Hunting', 'Inglourious Basterds', 'M - Eine Stadt sucht einen Mörder', 'Requiem for a Dream', '2001: A Space Odyssey', 'Vertigo', 'Eternal Sunshine of the Spotless Mind', 'Citizen Kane', 'Full Metal Jacket', 'Jagten', 'North by Northwest', 'A Clockwork Orange', 'Snatch', \"Le fabuleux destin d'Amélie Poulain\", 'The Kid']\n"
     ]
    }
   ],
   "source": [
    "print(list_name1)"
   ]
  },
  {
   "cell_type": "code",
   "execution_count": 90,
   "id": "5d7488e3-8875-4b2b-9648-d0dc0ecb10c5",
   "metadata": {},
   "outputs": [
    {
     "data": {
      "text/plain": [
       "100"
      ]
     },
     "execution_count": 90,
     "metadata": {},
     "output_type": "execute_result"
    }
   ],
   "source": [
    "len(list_name1)\n",
    "# "
   ]
  },
  {
   "cell_type": "code",
   "execution_count": 98,
   "id": "c60ff432-c4c6-41f5-9edb-b9b02c0c5526",
   "metadata": {},
   "outputs": [],
   "source": [
    "movie_names = []\n",
    "def IMDB_movies_func(*args):\n",
    "    url = input()\n",
    "    source1 = requests.get(url=url)\n",
    "    soup1 = BeautifulSoup(source1.content)\n",
    "    year = soup2.find_all(\"span\",class_=\"lister-item-year\")\n",
    "    names = soup1.select('h3.lister-item-header > a')\n",
    "    for x in names:\n",
    "        movie_names.append(x.text.strip())\n",
    "    return movie_names"
   ]
  },
  {
   "cell_type": "code",
   "execution_count": 99,
   "id": "1e063dc9-e166-4181-ac07-96574026bc5f",
   "metadata": {},
   "outputs": [
    {
     "name": "stdin",
     "output_type": "stream",
     "text": [
      " https://www.imdb.com/list/ls091520106/\n"
     ]
    },
    {
     "data": {
      "text/plain": [
       "['The Shawshank Redemption',\n",
       " 'The Godfather',\n",
       " 'The Godfather: Part II',\n",
       " 'The Dark Knight',\n",
       " '12 Angry Men',\n",
       " \"Schindler's List\",\n",
       " 'The Lord of the Rings: The Return of the King',\n",
       " 'Pulp Fiction',\n",
       " 'Il buono, il brutto, il cattivo',\n",
       " 'Fight Club',\n",
       " 'Joker',\n",
       " 'The Lord of the Rings: The Fellowship of the Ring',\n",
       " 'Forrest Gump',\n",
       " 'Inception',\n",
       " 'Star Wars: Episode V - The Empire Strikes Back',\n",
       " 'The Lord of the Rings: The Two Towers',\n",
       " 'The Matrix',\n",
       " \"One Flew Over the Cuckoo's Nest\",\n",
       " 'Goodfellas',\n",
       " 'Shichinin no samurai',\n",
       " 'Se7en',\n",
       " 'Cidade de Deus',\n",
       " 'La vita è bella',\n",
       " 'The Silence of the Lambs',\n",
       " 'Star Wars',\n",
       " \"It's a Wonderful Life\",\n",
       " 'Saving Private Ryan',\n",
       " 'Sen to Chihiro no kamikakushi',\n",
       " 'The Green Mile',\n",
       " 'Léon',\n",
       " 'Seppuku',\n",
       " 'Interstellar',\n",
       " 'The Usual Suspects',\n",
       " 'The Lion King',\n",
       " 'American History X',\n",
       " 'Back to the Future',\n",
       " 'The Pianist',\n",
       " 'Modern Times',\n",
       " 'Terminator 2: Judgment Day',\n",
       " 'The Intouchables',\n",
       " 'Psycho',\n",
       " 'Gladiator',\n",
       " 'City Lights',\n",
       " 'The Departed',\n",
       " 'Whiplash',\n",
       " 'Once Upon a Time in the West',\n",
       " 'The Prestige',\n",
       " 'Avengers: Endgame',\n",
       " 'Casablanca',\n",
       " 'Hotaru no haka',\n",
       " 'Rear Window',\n",
       " 'Nuovo Cinema Paradiso',\n",
       " 'Alien',\n",
       " 'Raiders of the Lost Ark',\n",
       " 'Memento',\n",
       " 'Apocalypse Now',\n",
       " 'The Great Dictator',\n",
       " 'The Lives of Others',\n",
       " 'Avengers: Infinity War',\n",
       " 'Django Unchained',\n",
       " 'Spider-Man: Into the Spider-Verse',\n",
       " 'The Shining',\n",
       " 'Paths of Glory',\n",
       " 'WALL·E',\n",
       " 'Sunset Blvd.',\n",
       " 'Dr. Strangelove or: How I Learned to Stop Worrying and Love the Bomb',\n",
       " 'Mononoke-hime',\n",
       " 'Oldeuboi',\n",
       " 'Witness for the Prosecution',\n",
       " 'The Dark Knight Rises',\n",
       " 'Once Upon a Time in America',\n",
       " 'Gisaengchung',\n",
       " 'Aliens',\n",
       " 'American Beauty',\n",
       " 'Coco',\n",
       " 'Kimi no na wa.',\n",
       " 'Braveheart',\n",
       " 'Das Boot',\n",
       " '3 Idiots',\n",
       " 'Taare Zameen Par',\n",
       " 'Star Wars: Episode VI - Return of the Jedi',\n",
       " 'Toy Story',\n",
       " 'Reservoir Dogs',\n",
       " 'Amadeus',\n",
       " 'Dangal',\n",
       " 'Good Will Hunting',\n",
       " 'Inglourious Basterds',\n",
       " 'M - Eine Stadt sucht einen Mörder',\n",
       " 'Requiem for a Dream',\n",
       " '2001: A Space Odyssey',\n",
       " 'Vertigo',\n",
       " 'Eternal Sunshine of the Spotless Mind',\n",
       " 'Citizen Kane',\n",
       " 'Full Metal Jacket',\n",
       " 'Jagten',\n",
       " 'North by Northwest',\n",
       " 'A Clockwork Orange',\n",
       " 'Snatch',\n",
       " \"Le fabuleux destin d'Amélie Poulain\",\n",
       " 'The Kid']"
      ]
     },
     "execution_count": 99,
     "metadata": {},
     "output_type": "execute_result"
    }
   ],
   "source": [
    "IMDB_movies_func()"
   ]
  },
  {
   "cell_type": "code",
   "execution_count": 101,
   "id": "5cb40ac7-79f7-4351-8fa9-2d9280e6a1d4",
   "metadata": {},
   "outputs": [],
   "source": [
    "# movie_names"
   ]
  },
  {
   "cell_type": "code",
   "execution_count": 109,
   "id": "b47b1055-b88d-41d4-9144-47c45c6d6c1e",
   "metadata": {},
   "outputs": [],
   "source": [
    "# Finding the movies rating \n",
    "\n",
    "movie_rates = []\n",
    "def IMDB_movies_func1(*args):\n",
    "    url = input()\n",
    "    source2 = requests.get(url=url)\n",
    "    soup2 = BeautifulSoup(source2.content)\n",
    "    rates = soup2.find_all(\"span\",class_=\"ipl-rating-star__rating\")\n",
    "    for x in rates:\n",
    "        movie_rates.append(x.text.strip())\n",
    "    return movie_rates\n"
   ]
  },
  {
   "cell_type": "code",
   "execution_count": null,
   "id": "bf0b391e-f98a-4d2b-801e-99ecbeff4566",
   "metadata": {},
   "outputs": [],
   "source": [
    "IMDB_movies_func1()\n",
    "ipl-rating-star small"
   ]
  },
  {
   "cell_type": "code",
   "execution_count": 151,
   "id": "b1889bce-160d-42c9-aec2-c267ef306b40",
   "metadata": {},
   "outputs": [],
   "source": [
    "source2 = requests.get('https://www.imdb.com/list/ls091520106/?sort=user_rating,desc&st_dt=&mode=detail&page=1')\n",
    "soup2 = BeautifulSoup(source2.content)\n",
    "#rates = soup2.find_all(\"span\",class_=\"ipl-rating-star__rating\")\n",
    "\n",
    "\n",
    "#names = soup1.select('h3.lister-item-header > a')\n",
    "#class=\"ipl-rating-star small\"\n",
    "rates = soup2.find_all(\"span\",class_=\"ipl-rating-star__rating\")\n",
    "#class=\"ipl-rating-star__rating\""
   ]
  },
  {
   "cell_type": "code",
   "execution_count": 154,
   "id": "c79574ed-4026-4c21-bd7f-2050280aad1e",
   "metadata": {},
   "outputs": [],
   "source": [
    "list_a =[]\n",
    "for x in rates:\n",
    "    list_a.append(x.text.replace('<span class=\"ipl-rating-star__rating\">',' '))"
   ]
  },
  {
   "cell_type": "code",
   "execution_count": 156,
   "id": "8984f617-a5a9-4c9e-9cca-bcf6d6224a73",
   "metadata": {},
   "outputs": [
    {
     "data": {
      "text/plain": [
       "list"
      ]
     },
     "execution_count": 156,
     "metadata": {},
     "output_type": "execute_result"
    }
   ],
   "source": [
    "list_a"
   ]
  },
  {
   "cell_type": "raw",
   "id": "31e44116-a665-41b3-b9de-d5383dc9ce5a",
   "metadata": {},
   "source": [
    "arr_v = []\n",
    "for x in list_a:\n",
    "    if x.isdigit():\n",
    "        print(x)"
   ]
  },
  {
   "cell_type": "code",
   "execution_count": 158,
   "id": "68e191a6-d3b8-436d-86f1-c0e455e15791",
   "metadata": {},
   "outputs": [],
   "source": [
    "\n",
    "\n",
    "\n",
    "source3 = requests.get('https://www.imdb.com/list/ls091520106/?sort=user_rating,desc&st_dt=&mode=detail&page=1')\n",
    "soup3 = BeautifulSoup(source3.content)\n",
    "\n",
    "year = soup2.find_all(\"span\",class_=\"lister-item-year\")\n",
    "\n",
    "#class=\"lister-item-year text-muted unbold\""
   ]
  },
  {
   "cell_type": "code",
   "execution_count": 179,
   "id": "ecba94c2-28e6-4385-9675-da5402ce4498",
   "metadata": {},
   "outputs": [],
   "source": [
    "Year_of_release = []\n",
    "for x in year:\n",
    "    Year_of_release.append(x.text.strip().replace('(','').replace(')','').replace('I ',''))"
   ]
  },
  {
   "cell_type": "code",
   "execution_count": 182,
   "id": "fc060aa5-fc12-46dd-8790-05a6a4862d7a",
   "metadata": {},
   "outputs": [],
   "source": [
    "#Year_of_release"
   ]
  },
  {
   "cell_type": "code",
   "execution_count": 162,
   "id": "3b037510-c5f9-4971-9307-bb302cc45e4e",
   "metadata": {},
   "outputs": [
    {
     "data": {
      "text/plain": [
       "100"
      ]
     },
     "execution_count": 162,
     "metadata": {},
     "output_type": "execute_result"
    }
   ],
   "source": [
    "len(Year_of_release)"
   ]
  },
  {
   "cell_type": "code",
   "execution_count": 171,
   "id": "d79a1e06-eafd-481b-98df-de61b34fdb86",
   "metadata": {},
   "outputs": [],
   "source": [
    "result_list = []\n",
    "release = []\n",
    "for x in Year_of_release:\n",
    "    release.append(x.replace('(',''))\n",
    "        \n",
    "for y in release:\n",
    "    result_list.append(y.replace(')',''))\n",
    "    \n",
    "    "
   ]
  },
  {
   "cell_type": "code",
   "execution_count": 175,
   "id": "070c68b5-3333-42b6-8e76-d62353896628",
   "metadata": {},
   "outputs": [],
   "source": [
    "# result_list\n",
    "year_list =[]\n",
    "for y in result_list:\n",
    "    year_list.append(y.replace('I ',''))"
   ]
  },
  {
   "cell_type": "code",
   "execution_count": 181,
   "id": "eb7b2a14-1dc7-47fe-af0f-f66c42bdaf6c",
   "metadata": {},
   "outputs": [],
   "source": [
    "#year_list"
   ]
  },
  {
   "cell_type": "code",
   "execution_count": 271,
   "id": "4e0e759c-2325-4f92-a9ac-2ffad4aedffb",
   "metadata": {},
   "outputs": [],
   "source": [
    "names_x = []\n",
    "release = []\n",
    "rating = []\n",
    "data = pd.DataFrame({})\n",
    "def IMDB_movies_func1(*args):\n",
    "    url = input()\n",
    "    source = requests.get(url=url)\n",
    "    soup = BeautifulSoup(source.content)\n",
    "    names = soup.select('h3.lister-item-header > a')\n",
    "    years = soup.find_all(\"span\",class_=\"lister-item-year\")\n",
    "    Rate = soup.find_all(\"div\",class_=\"ipl-rating-star small\")\n",
    "    values = [names,years,list(Rate)]\n",
    "    for x in values:\n",
    "        if x == values[0]:\n",
    "            for y in x:\n",
    "                names_x.append(y.text.strip())\n",
    "        if x == values[1]:\n",
    "            for y in x:\n",
    "                release.append(y.text.strip().replace('(','').replace(')','').replace('I ',''))\n",
    "        if x == values[2]:\n",
    "            for y in x:\n",
    "                rating.append(y.text.strip())\n",
    "                \n",
    "            \n",
    "            \n",
    "                \n",
    "    #print(names_x,release)\n",
    "    data['Name'] = names_x\n",
    "    data['Year_of_release'] = release\n",
    "    data['Rating'] = rating\n",
    "    return data\n",
    "    \n",
    "                \n",
    "                \n",
    "            \n",
    "      \n",
    "    #return movie_name\n",
    "#Year_of_release.append(x.text.strip().replace('(','').replace(')','').replace('I ',''))\n",
    "#  "
   ]
  },
  {
   "cell_type": "code",
   "execution_count": 272,
   "id": "5835746d-8619-490c-9bab-42e0f6e7a8a1",
   "metadata": {},
   "outputs": [
    {
     "name": "stdin",
     "output_type": "stream",
     "text": [
      "  https://www.imdb.com/list/ls091520106/?sort=user_rating,desc&st_dt=&mode=detail&page=1\n"
     ]
    },
    {
     "data": {
      "text/html": [
       "<div>\n",
       "<style scoped>\n",
       "    .dataframe tbody tr th:only-of-type {\n",
       "        vertical-align: middle;\n",
       "    }\n",
       "\n",
       "    .dataframe tbody tr th {\n",
       "        vertical-align: top;\n",
       "    }\n",
       "\n",
       "    .dataframe thead th {\n",
       "        text-align: right;\n",
       "    }\n",
       "</style>\n",
       "<table border=\"1\" class=\"dataframe\">\n",
       "  <thead>\n",
       "    <tr style=\"text-align: right;\">\n",
       "      <th></th>\n",
       "      <th>Name</th>\n",
       "      <th>Year_of_release</th>\n",
       "      <th>Rating</th>\n",
       "    </tr>\n",
       "  </thead>\n",
       "  <tbody>\n",
       "    <tr>\n",
       "      <th>0</th>\n",
       "      <td>The Shawshank Redemption</td>\n",
       "      <td>1994</td>\n",
       "      <td>9.3</td>\n",
       "    </tr>\n",
       "    <tr>\n",
       "      <th>1</th>\n",
       "      <td>The Godfather</td>\n",
       "      <td>1972</td>\n",
       "      <td>9.2</td>\n",
       "    </tr>\n",
       "    <tr>\n",
       "      <th>2</th>\n",
       "      <td>The Dark Knight</td>\n",
       "      <td>2008</td>\n",
       "      <td>9</td>\n",
       "    </tr>\n",
       "    <tr>\n",
       "      <th>3</th>\n",
       "      <td>The Godfather: Part II</td>\n",
       "      <td>1974</td>\n",
       "      <td>9</td>\n",
       "    </tr>\n",
       "    <tr>\n",
       "      <th>4</th>\n",
       "      <td>12 Angry Men</td>\n",
       "      <td>1957</td>\n",
       "      <td>9</td>\n",
       "    </tr>\n",
       "    <tr>\n",
       "      <th>...</th>\n",
       "      <td>...</td>\n",
       "      <td>...</td>\n",
       "      <td>...</td>\n",
       "    </tr>\n",
       "    <tr>\n",
       "      <th>95</th>\n",
       "      <td>Vertigo</td>\n",
       "      <td>1958</td>\n",
       "      <td>8.3</td>\n",
       "    </tr>\n",
       "    <tr>\n",
       "      <th>96</th>\n",
       "      <td>North by Northwest</td>\n",
       "      <td>1959</td>\n",
       "      <td>8.3</td>\n",
       "    </tr>\n",
       "    <tr>\n",
       "      <th>97</th>\n",
       "      <td>Das Boot</td>\n",
       "      <td>1981</td>\n",
       "      <td>8.3</td>\n",
       "    </tr>\n",
       "    <tr>\n",
       "      <th>98</th>\n",
       "      <td>M - Eine Stadt sucht einen Mörder</td>\n",
       "      <td>1931</td>\n",
       "      <td>8.3</td>\n",
       "    </tr>\n",
       "    <tr>\n",
       "      <th>99</th>\n",
       "      <td>The Kid</td>\n",
       "      <td>1921</td>\n",
       "      <td>8.3</td>\n",
       "    </tr>\n",
       "  </tbody>\n",
       "</table>\n",
       "<p>100 rows × 3 columns</p>\n",
       "</div>"
      ],
      "text/plain": [
       "                                 Name Year_of_release Rating\n",
       "0            The Shawshank Redemption            1994    9.3\n",
       "1                       The Godfather            1972    9.2\n",
       "2                     The Dark Knight            2008      9\n",
       "3              The Godfather: Part II            1974      9\n",
       "4                        12 Angry Men            1957      9\n",
       "..                                ...             ...    ...\n",
       "95                            Vertigo            1958    8.3\n",
       "96                 North by Northwest            1959    8.3\n",
       "97                           Das Boot            1981    8.3\n",
       "98  M - Eine Stadt sucht einen Mörder            1931    8.3\n",
       "99                            The Kid            1921    8.3\n",
       "\n",
       "[100 rows x 3 columns]"
      ]
     },
     "execution_count": 272,
     "metadata": {},
     "output_type": "execute_result"
    }
   ],
   "source": [
    "IMDB_movies_func1()"
   ]
  },
  {
   "cell_type": "code",
   "execution_count": null,
   "id": "c9ee59b4-fc21-44f2-bffd-e492752fc99f",
   "metadata": {},
   "outputs": [],
   "source": [
    "\n"
   ]
  },
  {
   "cell_type": "code",
   "execution_count": 187,
   "id": "5e851d83-02fc-428e-b0ff-3d8a1ca1b58c",
   "metadata": {},
   "outputs": [],
   "source": [
    "b = 22\n",
    "v = 99\n",
    "a = [b,v]"
   ]
  },
  {
   "cell_type": "code",
   "execution_count": 188,
   "id": "1c00909c-6db1-4b2a-8597-751d255888a9",
   "metadata": {},
   "outputs": [
    {
     "data": {
      "text/plain": [
       "[22, 99]"
      ]
     },
     "execution_count": 188,
     "metadata": {},
     "output_type": "execute_result"
    }
   ],
   "source": [
    "a"
   ]
  },
  {
   "cell_type": "code",
   "execution_count": null,
   "id": "99b4ed06-4cb1-43f7-a78a-038ae3f3deca",
   "metadata": {},
   "outputs": [],
   "source": []
  },
  {
   "cell_type": "code",
   "execution_count": 258,
   "id": "3bb3df2c-b2d2-45c5-a5cf-aaaa451f02d2",
   "metadata": {},
   "outputs": [],
   "source": [
    "\n",
    "source4 = requests.get('https://www.imdb.com/list/ls091520106/?sort=user_rating,desc&st_dt=&mode=detail&page=1')\n",
    "soup4 = BeautifulSoup(source3.content)\n",
    "\n",
    "Rate = soup4.find_all(\"div\",class_=\"ipl-rating-star small\")\n",
    "# class=\"ipl-rating-star small\""
   ]
  },
  {
   "cell_type": "code",
   "execution_count": 261,
   "id": "0dc28dad-356e-4a6c-ae3c-530efd98c2de",
   "metadata": {},
   "outputs": [],
   "source": [
    "arr_v=  list(Rate)"
   ]
  },
  {
   "cell_type": "code",
   "execution_count": 260,
   "id": "ab2f6a13-da1a-4085-ab67-f4b25c0480a0",
   "metadata": {},
   "outputs": [
    {
     "data": {
      "text/plain": [
       "bs4.element.ResultSet"
      ]
     },
     "execution_count": 260,
     "metadata": {},
     "output_type": "execute_result"
    }
   ],
   "source": [
    "type(Rate)"
   ]
  },
  {
   "cell_type": "code",
   "execution_count": 274,
   "id": "d1e310b4-1940-45f3-a68a-45190f22cd32",
   "metadata": {},
   "outputs": [],
   "source": [
    "#Rate"
   ]
  },
  {
   "cell_type": "code",
   "execution_count": 267,
   "id": "5d70315a-db85-41ec-b803-b4116580406d",
   "metadata": {},
   "outputs": [],
   "source": [
    "arr_v\n",
    "rating = []\n",
    "for x in arr_v:\n",
    "    rating.append(x.text.strip())"
   ]
  },
  {
   "cell_type": "code",
   "execution_count": 275,
   "id": "e04d3937-2761-435c-bf5f-09619f6af272",
   "metadata": {},
   "outputs": [],
   "source": [
    "#rating"
   ]
  },
  {
   "cell_type": "code",
   "execution_count": 269,
   "id": "3ef8a83d-4d89-4101-8205-1285640750df",
   "metadata": {},
   "outputs": [
    {
     "data": {
      "text/plain": [
       "100"
      ]
     },
     "execution_count": 269,
     "metadata": {},
     "output_type": "execute_result"
    }
   ],
   "source": [
    "len(rating)"
   ]
  },
  {
   "cell_type": "code",
   "execution_count": 374,
   "id": "69f23bd7-1307-40e1-9342-daa5a9bcfd42",
   "metadata": {},
   "outputs": [],
   "source": [
    "\n",
    "def Batsmen_detaitls_func(*args):\n",
    "    data = pd.DataFrame({})\n",
    "    name_list = []\n",
    "    price_list = []\n",
    "    image_list = []\n",
    "    rating_list =[]\n",
    "    url = input()\n",
    "    html = requests.get(url=url).content\n",
    "    sel = Selector(text= html)\n",
    "    source = requests.get(url=url)\n",
    "    soup = BeautifulSoup(source.content)\n",
    "    #names = soup.select('h3.lister-item-header > a')\n",
    "    product_name = soup.find_all(\"span\",class_=\"a-size-base-plus a-color-base a-text-normal\")\n",
    "    product_price = soup.find_all(\"span\",class_=\"a-price-whole\")\n",
    "    image_url = sel.xpath(\"//img[@class ='s-image']/@src\").extract()\n",
    "    rating = sel.xpath(\"//span[@class='a-size-base']\").extract()\n",
    "   \n",
    "    \n",
    "    values = [product_name ,product_price,image_url,rating]\n",
    "    for x in values:\n",
    "        if x == values[0]:\n",
    "            for y in x:\n",
    "                name_list.append(y.text.strip())\n",
    "                #matches_list.sort(reverse=True)\n",
    "                if len(name_list) == 23:\n",
    "                    break\n",
    "        if x == values[1]:\n",
    "            for y in x:\n",
    "                price_list.append(y.text.strip())\n",
    "                #points_list.sort(reverse=True)\n",
    "                if len(price_list) == 23:\n",
    "                    break\n",
    "        if x == values[2]:\n",
    "            for y in x:\n",
    "                image_url.append(y)\n",
    "                #rating_list.sort(reverse=True)\n",
    "                if len(image_url) == 23:\n",
    "                    break\n",
    "        if x == values[3]:\n",
    "            for y in x:\n",
    "                rating_list.append(y.replace('<span class=\"a-size-base\">','').replace('</span>',''))\n",
    "                #rating_list.sort(reverse=True)\n",
    "                if len(rating_list) == 23:\n",
    "                    break             \n",
    "                \n",
    "    #print(names_x,release)\n",
    "    data['Product_Name'] = name_list\n",
    "    data['Product_Price'] = price_list\n",
    "    data['Product_Image_link'] = image_list\n",
    "    data['Product_Rating'] = rating_list\n",
    "    return data"
   ]
  },
  {
   "cell_type": "code",
   "execution_count": 375,
   "id": "4141ee39-99ff-4394-a488-8ee71e7f8e19",
   "metadata": {},
   "outputs": [
    {
     "name": "stdin",
     "output_type": "stream",
     "text": [
      " https://www.icc-cricket.com/rankings/mens/player-rankings/odi/bowling\n"
     ]
    },
    {
     "data": {
      "text/html": [
       "<div>\n",
       "<style scoped>\n",
       "    .dataframe tbody tr th:only-of-type {\n",
       "        vertical-align: middle;\n",
       "    }\n",
       "\n",
       "    .dataframe tbody tr th {\n",
       "        vertical-align: top;\n",
       "    }\n",
       "\n",
       "    .dataframe thead th {\n",
       "        text-align: right;\n",
       "    }\n",
       "</style>\n",
       "<table border=\"1\" class=\"dataframe\">\n",
       "  <thead>\n",
       "    <tr style=\"text-align: right;\">\n",
       "      <th></th>\n",
       "      <th>Player_Name</th>\n",
       "      <th>Player_Team</th>\n",
       "      <th>Player_Rating</th>\n",
       "    </tr>\n",
       "  </thead>\n",
       "  <tbody>\n",
       "    <tr>\n",
       "      <th>0</th>\n",
       "      <td>Mehedi Hasan</td>\n",
       "      <td>BAN</td>\n",
       "      <td>713</td>\n",
       "    </tr>\n",
       "    <tr>\n",
       "      <th>1</th>\n",
       "      <td>Mujeeb Ur Rahman</td>\n",
       "      <td>AFG</td>\n",
       "      <td>708</td>\n",
       "    </tr>\n",
       "    <tr>\n",
       "      <th>2</th>\n",
       "      <td>Matt Henry</td>\n",
       "      <td>NZ</td>\n",
       "      <td>691</td>\n",
       "    </tr>\n",
       "    <tr>\n",
       "      <th>3</th>\n",
       "      <td>Jasprit Bumrah</td>\n",
       "      <td>IND</td>\n",
       "      <td>690</td>\n",
       "    </tr>\n",
       "    <tr>\n",
       "      <th>4</th>\n",
       "      <td>Kagiso Rabada</td>\n",
       "      <td>SA</td>\n",
       "      <td>666</td>\n",
       "    </tr>\n",
       "    <tr>\n",
       "      <th>5</th>\n",
       "      <td>Chris Woakes</td>\n",
       "      <td>ENG</td>\n",
       "      <td>665</td>\n",
       "    </tr>\n",
       "    <tr>\n",
       "      <th>6</th>\n",
       "      <td>Josh Hazlewood</td>\n",
       "      <td>AUS</td>\n",
       "      <td>660</td>\n",
       "    </tr>\n",
       "    <tr>\n",
       "      <th>7</th>\n",
       "      <td>Pat Cummins</td>\n",
       "      <td>AUS</td>\n",
       "      <td>646</td>\n",
       "    </tr>\n",
       "    <tr>\n",
       "      <th>8</th>\n",
       "      <td>Mustafizur Rahman</td>\n",
       "      <td>BAN</td>\n",
       "      <td>645</td>\n",
       "    </tr>\n",
       "    <tr>\n",
       "      <th>9</th>\n",
       "      <td>Mohammad Amir</td>\n",
       "      <td>PAK</td>\n",
       "      <td>638</td>\n",
       "    </tr>\n",
       "  </tbody>\n",
       "</table>\n",
       "</div>"
      ],
      "text/plain": [
       "         Player_Name Player_Team Player_Rating\n",
       "0       Mehedi Hasan         BAN           713\n",
       "1   Mujeeb Ur Rahman         AFG           708\n",
       "2         Matt Henry          NZ           691\n",
       "3     Jasprit Bumrah         IND           690\n",
       "4      Kagiso Rabada          SA           666\n",
       "5       Chris Woakes         ENG           665\n",
       "6     Josh Hazlewood         AUS           660\n",
       "7        Pat Cummins         AUS           646\n",
       "8  Mustafizur Rahman         BAN           645\n",
       "9      Mohammad Amir         PAK           638"
      ]
     },
     "execution_count": 375,
     "metadata": {},
     "output_type": "execute_result"
    }
   ],
   "source": [
    "Batsmen_detaitls_func()"
   ]
  },
  {
   "cell_type": "code",
   "execution_count": null,
   "id": "d6d9eb40-0930-4ebf-a3d0-b20663a2cd16",
   "metadata": {},
   "outputs": [],
   "source": []
  },
  {
   "cell_type": "code",
   "execution_count": 421,
   "id": "47878a80-c0de-4414-8b79-8ca02e1a5c90",
   "metadata": {},
   "outputs": [
    {
     "data": {
      "text/plain": [
       "<Response [200]>"
      ]
     },
     "execution_count": 421,
     "metadata": {},
     "output_type": "execute_result"
    }
   ],
   "source": [
    "source11 = requests.get(url='https://www.amazon.in/Smartphones-Under-%E2%82%B920-000-Basic-Mobiles/s?rh=n%3A1805560031%2Cp_36%3A-2000000')\n",
    "soup22 = BeautifulSoup(source11.content)\n",
    "source11\n",
    "    \n",
    "# https://www.amazon.in/s?k=all+mobile+under+20000&rh=n%3A1389432031&ref=nb_sb_noss    "
   ]
  },
  {
   "cell_type": "code",
   "execution_count": 435,
   "id": "79e46351-7d29-43e8-b745-ac700e19cf77",
   "metadata": {},
   "outputs": [],
   "source": [
    "#m = soup.find_all(\"tr\",class_=\"table-body\"\n",
    "\n",
    "#name = soup.select('td.rankings-table__name>a')\n",
    "#name = soup.find_all(\"td\",class_=\"table-body__cell rating\")\n",
    "#team = soup.find_all(\"span\",class_=\"table-body__logo-text\")\n",
    "#class=\"table-body__logo-text\"\n",
    "\n",
    "\n",
    "# product_name = soup22.find_all(\"span\",class_=\"a-size-base-plus a-color-base a-text-normal\")\n",
    "\n",
    "product_url = soup22.select(\"img\",class_='s-image')\n",
    "\n",
    "response.xpath('//img')"
   ]
  },
  {
   "cell_type": "code",
   "execution_count": 436,
   "id": "db9c3ebb-e11f-4a1d-a6c7-b2e5eab4f210",
   "metadata": {},
   "outputs": [],
   "source": [
    "# print(matches)\n",
    "axx =[]\n",
    "for x in product_url:\n",
    "    axx.append(x.text)\n",
    "    \n",
    "    \n",
    "    \n"
   ]
  },
  {
   "cell_type": "code",
   "execution_count": 441,
   "id": "8479ffa8-247a-49f0-9449-700840190901",
   "metadata": {},
   "outputs": [],
   "source": [
    "from scrapy import Selector"
   ]
  },
  {
   "cell_type": "code",
   "execution_count": 437,
   "id": "4e5d4498-f79e-48d7-9bfa-db1367f62ecf",
   "metadata": {},
   "outputs": [
    {
     "name": "stdout",
     "output_type": "stream",
     "text": [
      "['', '', '', '', '', '', '', '', '', '', '', '', '', '', '', '', '', '', '', '', '', '', '', '', '', '', '']\n"
     ]
    }
   ],
   "source": [
    "print(axx)"
   ]
  },
  {
   "cell_type": "raw",
   "id": "1878d643-2f96-464d-a70d-876f1d590977",
   "metadata": {},
   "source": [
    "1) name = soup.select('td.rankings-table__name>a')\n",
    "2) team = soup.find_all(\"span\",class_=\"table-body__logo-text\")\n",
    "3) rate = soup.find_all(\"td\",class_=\"table-body__cell rating\")\n",
    "\n",
    "https://www.amazon.in/s?k=all+mobile+under+20000&crid=1RP5D9PHB4DD9&sprefix=all+mobi%2Caps%2C439&ref=nb_sb_ss_ts-doa-p_7_8"
   ]
  },
  {
   "cell_type": "code",
   "execution_count": null,
   "id": "4e2e05f9-850a-4bbf-9af3-656e23b7a0a4",
   "metadata": {},
   "outputs": [],
   "source": [
    "[<Selector xpath='//img' data='<img src=\"https://db.ygoprodeck.com/sear'>]"
   ]
  },
  {
   "cell_type": "raw",
   "id": "f30ebdbe-4566-41c2-818e-bf1fd2475b40",
   "metadata": {},
   "source": [
    "source5 = requests.get(url=source_url)\n",
    "    html = requests.get(url=source_url).content\n",
    "    sel = Selector(text= html)\n",
    "    genre =sel.xpath('//p[@class =\"genre-links hidden-phone\"]').extract()"
   ]
  },
  {
   "cell_type": "code",
   "execution_count": 439,
   "id": "5a37c5f8-2dd8-4a68-822a-8c1d820948a2",
   "metadata": {},
   "outputs": [],
   "source": [
    "html = requests.get(url='https://www.amazon.in/Smartphones-Under-%E2%82%B920-000-Basic-Mobiles/s?rh=n%3A1805560031%2Cp_36%3A-2000000').content"
   ]
  },
  {
   "cell_type": "code",
   "execution_count": 442,
   "id": "a0aaf0de-0fe7-48c8-b6ae-9a98f40a92a9",
   "metadata": {},
   "outputs": [],
   "source": [
    "sel = Selector(text= html)"
   ]
  },
  {
   "cell_type": "code",
   "execution_count": 464,
   "id": "047870a6-e6df-4bc2-a525-dba97e9e30fc",
   "metadata": {},
   "outputs": [],
   "source": [
    "#data1 = sel.xpath(\"//img[@class ='s-image']/@src\").extract()"
   ]
  },
  {
   "cell_type": "code",
   "execution_count": 475,
   "id": "c50ba8a1-8e13-4c1d-8e23-9d4d7f367f2a",
   "metadata": {},
   "outputs": [],
   "source": [
    "rate = soup22.select(\"span\",class_=\"a-size-base\")\n"
   ]
  },
  {
   "cell_type": "code",
   "execution_count": 477,
   "id": "56b789de-271f-439c-8f95-3838309d17e4",
   "metadata": {},
   "outputs": [],
   "source": [
    "rating = sel.xpath(\"//span[@class='a-size-base']\").extract()"
   ]
  },
  {
   "cell_type": "code",
   "execution_count": 480,
   "id": "d2fbeeae-47e7-4908-9cb9-2479c68a2ba1",
   "metadata": {},
   "outputs": [],
   "source": [
    "# rating\n",
    "# 34,860\n",
    "\n",
    "product_price = soup22.find_all(\"span\",class_=\"a-price-whole\")"
   ]
  },
  {
   "cell_type": "code",
   "execution_count": 481,
   "id": "5c09f321-0881-48f0-a6d8-fe7abea12d11",
   "metadata": {},
   "outputs": [
    {
     "data": {
      "text/plain": [
       "23"
      ]
     },
     "execution_count": 481,
     "metadata": {},
     "output_type": "execute_result"
    }
   ],
   "source": [
    "len(product_price)"
   ]
  },
  {
   "cell_type": "code",
   "execution_count": 483,
   "id": "b51ce229-cefb-4f4b-b0dd-51de51582b68",
   "metadata": {},
   "outputs": [],
   "source": [
    "image_url = sel.xpath(\"//img[@class ='s-image']/@src\").extract()"
   ]
  },
  {
   "cell_type": "code",
   "execution_count": 491,
   "id": "944a91cb-d5a8-4cc4-b397-e1146d92a3d0",
   "metadata": {},
   "outputs": [],
   "source": [
    "product_name = soup22.find_all(\"span\",class_=\"a-size-base-plus a-color-base a-text-normal\")\n"
   ]
  },
  {
   "cell_type": "code",
   "execution_count": null,
   "id": "c3ebabfe-d0fe-48b0-8db7-0eca700aeff0",
   "metadata": {},
   "outputs": [],
   "source": [
    "for x in list(product_name):\n",
    "    len(x.text.strip())\n",
    "    "
   ]
  },
  {
   "cell_type": "code",
   "execution_count": 503,
   "id": "fc069fb3-bac0-4bd7-82f0-f1be9d7d6bc8",
   "metadata": {},
   "outputs": [],
   "source": [
    "image_url = sel.xpath(\"//img[@class ='s-image']/@src\").extract()"
   ]
  },
  {
   "cell_type": "code",
   "execution_count": 494,
   "id": "04666978-9471-4e02-8f51-63fe1c8a9707",
   "metadata": {},
   "outputs": [
    {
     "data": {
      "text/plain": [
       "24"
      ]
     },
     "execution_count": 494,
     "metadata": {},
     "output_type": "execute_result"
    }
   ],
   "source": [
    "or x in image:\n",
    "    len(x.text.strip())"
   ]
  },
  {
   "cell_type": "code",
   "execution_count": null,
   "id": "2b4ef975-9237-4fa1-abdb-ce8d6da1e2ce",
   "metadata": {},
   "outputs": [],
   "source": [
    "def amazon_phone_func(*args):\n",
    "    data = pd.DataFrame({})\n",
    "    name_list = []\n",
    "    price_list = []\n",
    "    image_list = []\n",
    "    rating_list =[]\n",
    "    url = input()\n",
    "    html = requests.get(url=url).content\n",
    "    sel = Selector(text= html)\n",
    "    source = requests.get(url=url)\n",
    "    soup = BeautifulSoup(source.content)\n",
    "    #names = soup.select('h3.lister-item-header > a')\n",
    "    product_name = soup.find_all(\"span\",class_=\"a-size-base-plus a-color-base a-text-normal\")\n",
    "    product_price = soup.find_all(\"span\",class_=\"a-price-whole\")\n",
    "    image_url = sel.xpath(\"//img[@class ='s-image']/@src\").extract()\n",
    "    Rate= sel.xpath(\"//span[@class='a-size-base']\").extract()\n",
    "   \n",
    "    \n",
    "    values = [list(product_name),product_price,image_url,Rate]\n",
    "    for x in values:\n",
    "        if x == values[0]:\n",
    "            for y in x:\n",
    "                name_list.append(y.text.strip())\n",
    "                #matches_list.sort(reverse=True)\n",
    "                #if len(name_list) == 23:\n",
    "                    #break\n",
    "        if x == values[1]:\n",
    "            for y in x:\n",
    "                price_list.append(y.text.strip())\n",
    "                #points_list.sort(reverse=True)\n",
    "                #if len(price_list) == 23:\n",
    "                    #break\n",
    "        if x == values[2]:\n",
    "            for y in x:\n",
    "                image_url.append(y)\n",
    "                #rating_list.sort(reverse=True)\n",
    "                #if len(image_url) == 23:\n",
    "                    #break\n",
    "        if x == values[3]:\n",
    "            for y in x:\n",
    "                rating_list.append(y.replace('<span class=\"a-size-base\">','').replace('</span>',''))\n",
    "                #rating_list.sort(reverse=True)\n",
    "                #if len(rating_list) == 23:\n",
    "                    #break             \n",
    "                \n",
    "    print(name_list,price_list,image_list,rating_list)\n",
    "    #data['Product_Name'] = name_list\n",
    "    #data['Product_Price'] = price_list\n",
    "    #data['Product_Image_link'] = image_list\n",
    "    #data['Product_Rating'] = rating_list\n",
    "    #return "
   ]
  },
  {
   "cell_type": "code",
   "execution_count": 502,
   "id": "e3f72228-dfff-4e45-9419-7525de7a7e51",
   "metadata": {},
   "outputs": [
    {
     "name": "stdin",
     "output_type": "stream",
     "text": [
      " https://www.amazon.in/Smartphones-Under-%E2%82%B920-000-Basic-Mobiles/s?rh=n%3A1805560031%2Cp_36%3A-2000000\n"
     ]
    },
    {
     "ename": "KeyboardInterrupt",
     "evalue": "",
     "output_type": "error",
     "traceback": [
      "\u001b[0;31m---------------------------------------------------------------------------\u001b[0m",
      "\u001b[0;31mKeyboardInterrupt\u001b[0m                         Traceback (most recent call last)",
      "\u001b[0;32m<ipython-input-502-d73448a85174>\u001b[0m in \u001b[0;36m<module>\u001b[0;34m\u001b[0m\n\u001b[0;32m----> 1\u001b[0;31m \u001b[0mamazon_phone_func\u001b[0m\u001b[0;34m(\u001b[0m\u001b[0;34m)\u001b[0m\u001b[0;34m\u001b[0m\u001b[0;34m\u001b[0m\u001b[0m\n\u001b[0m",
      "\u001b[0;32m<ipython-input-501-4f81b3cf3074>\u001b[0m in \u001b[0;36mamazon_phone_func\u001b[0;34m(*args)\u001b[0m\n\u001b[1;32m     33\u001b[0m         \u001b[0;32mif\u001b[0m \u001b[0mx\u001b[0m \u001b[0;34m==\u001b[0m \u001b[0mvalues\u001b[0m\u001b[0;34m[\u001b[0m\u001b[0;36m2\u001b[0m\u001b[0;34m]\u001b[0m\u001b[0;34m:\u001b[0m\u001b[0;34m\u001b[0m\u001b[0;34m\u001b[0m\u001b[0m\n\u001b[1;32m     34\u001b[0m             \u001b[0;32mfor\u001b[0m \u001b[0my\u001b[0m \u001b[0;32min\u001b[0m \u001b[0mx\u001b[0m\u001b[0;34m:\u001b[0m\u001b[0;34m\u001b[0m\u001b[0;34m\u001b[0m\u001b[0m\n\u001b[0;32m---> 35\u001b[0;31m                 \u001b[0mimage_url\u001b[0m\u001b[0;34m.\u001b[0m\u001b[0mappend\u001b[0m\u001b[0;34m(\u001b[0m\u001b[0my\u001b[0m\u001b[0;34m)\u001b[0m\u001b[0;34m\u001b[0m\u001b[0;34m\u001b[0m\u001b[0m\n\u001b[0m\u001b[1;32m     36\u001b[0m                 \u001b[0;31m#rating_list.sort(reverse=True)\u001b[0m\u001b[0;34m\u001b[0m\u001b[0;34m\u001b[0m\u001b[0;34m\u001b[0m\u001b[0m\n\u001b[1;32m     37\u001b[0m                 \u001b[0;31m#if len(image_url) == 23:\u001b[0m\u001b[0;34m\u001b[0m\u001b[0;34m\u001b[0m\u001b[0;34m\u001b[0m\u001b[0m\n",
      "\u001b[0;31mKeyboardInterrupt\u001b[0m: "
     ]
    }
   ],
   "source": [
    "amazon_phone_func()"
   ]
  },
  {
   "cell_type": "code",
   "execution_count": null,
   "id": "be1e6ae1-8ef0-4b8a-ab25-a3a02f03be60",
   "metadata": {},
   "outputs": [],
   "source": []
  }
 ],
 "metadata": {
  "kernelspec": {
   "display_name": "Python 3",
   "language": "python",
   "name": "python3"
  },
  "language_info": {
   "codemirror_mode": {
    "name": "ipython",
    "version": 3
   },
   "file_extension": ".py",
   "mimetype": "text/x-python",
   "name": "python",
   "nbconvert_exporter": "python",
   "pygments_lexer": "ipython3",
   "version": "3.8.2"
  }
 },
 "nbformat": 4,
 "nbformat_minor": 5
}
